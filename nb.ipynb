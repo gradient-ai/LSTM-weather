{
 "cells": [
  {
   "cell_type": "markdown",
   "source": [
    "# Setting up the Weather dataset"
   ],
   "metadata": {}
  },
  {
   "cell_type": "code",
   "execution_count": null,
   "source": [
    "!curl https://www.bgc-jena.mpg.de/wetter/mpi_saale_2021b.zip -o mpi_saale_2021b.zip"
   ],
   "outputs": [],
   "metadata": {}
  },
  {
   "cell_type": "code",
   "execution_count": null,
   "source": [
    "!pip install zipfile\n",
    "import zipfile\n",
    "import pandas\n",
    "\n",
    "zip_file = zipfile.ZipFile(\"mpi_saale_2021b.zip\")\n",
    "zip_file.extractall()\n",
    "csv_path = \"mpi_saale_2021b.csv\"\n",
    "data_frame = pandas.read_csv(csv_path)"
   ],
   "outputs": [],
   "metadata": {}
  },
  {
   "cell_type": "markdown",
   "source": [
    "# Set up & explore the dataset "
   ],
   "metadata": {}
  },
  {
   "cell_type": "code",
   "execution_count": null,
   "source": [
    "time = data_frame['Date Time']\n",
    "temperature = data_frame['T (degC)']\n",
    "pressure = data_frame['p (mbar)']\n",
    "relative_humidity = data_frame['rh (%)']\n",
    "vapor_pressure = data_frame['VPact (mbar)']\n",
    "wind_speed = data_frame['wv (m/s)']\n",
    "airtight = data_frame['rho (g/m**3)']"
   ],
   "outputs": [],
   "metadata": {}
  },
  {
   "cell_type": "code",
   "execution_count": null,
   "source": [
    "import matplotlib.pyplot as plt\n",
    "from matplotlib.pyplot import figure\n",
    "\n",
    "plt.subplots(nrows=2, ncols=3, figsize=(26, 20))\n",
    "\n",
    "ax = plt.subplot(2, 3, 1)\n",
    "temperature.index = time\n",
    "temperature.head()\n",
    "temperature.plot(rot=20)\n",
    "plt.title('Temperature')\n",
    "\n",
    "ax = plt.subplot(2, 3, 2)\n",
    "pressure.index = time\n",
    "pressure.head()\n",
    "pressure.plot(rot=20)\n",
    "plt.title('Pressure')\n",
    "\n",
    "ax = plt.subplot(2, 3, 3)\n",
    "relative_humidity.index = time\n",
    "relative_humidity.head()\n",
    "relative_humidity.plot(rot=20)\n",
    "plt.title('Relative Humidity')\n",
    "\n",
    "ax = plt.subplot(2, 3, 4)\n",
    "vapor_pressure.index = time\n",
    "vapor_pressure.head()\n",
    "vapor_pressure.plot(rot=20)\n",
    "plt.title('Vapor Pressure')\n",
    "\n",
    "ax = plt.subplot(2, 3, 5)\n",
    "wind_speed.index = time\n",
    "wind_speed.head()\n",
    "wind_speed.plot(rot=20)\n",
    "plt.title('Wind Speed')\n",
    "\n",
    "ax = plt.subplot(2, 3, 6)\n",
    "airtight.index = time\n",
    "airtight.head()\n",
    "airtight.plot(rot=20)\n",
    "plt.title('Airtight')\n",
    "\n",
    "plt.tight_layout()\n",
    "plt.show()"
   ],
   "outputs": [],
   "metadata": {}
  },
  {
   "cell_type": "markdown",
   "source": [
    "# Data Preprocessing\n",
    "## Normalization"
   ],
   "metadata": {}
  },
  {
   "cell_type": "code",
   "execution_count": null,
   "source": [
    "def normalize(data):\n",
    "    data_mean = data.mean(axis=0)\n",
    "    data_std = data.std(axis=0)\n",
    "    return (data - data_mean) / data_std"
   ],
   "outputs": [],
   "metadata": {}
  },
  {
   "cell_type": "code",
   "execution_count": null,
   "source": [
    "features = pandas.concat([temperature, pressure, relative_humidity, vapor_pressure, wind_speed, airtight], axis=1)\n",
    "features.index = time\n",
    "features"
   ],
   "outputs": [],
   "metadata": {}
  },
  {
   "cell_type": "code",
   "execution_count": null,
   "source": [
    "features = normalize(features.values)\n",
    "features = pandas.DataFrame(features)\n",
    "features"
   ],
   "outputs": [],
   "metadata": {}
  },
  {
   "cell_type": "code",
   "execution_count": null,
   "source": [
    "training_size = int ( 0.8 * features.shape[0])  \n",
    "train_data = features.loc[0 : training_size - 1]\n",
    "val_data = features.loc[training_size:]"
   ],
   "outputs": [],
   "metadata": {}
  },
  {
   "cell_type": "markdown",
   "source": [
    "## The training dataset"
   ],
   "metadata": {}
  },
  {
   "cell_type": "code",
   "execution_count": null,
   "source": [
    "start = 432 + 36\n",
    "end = start + training_size\n",
    "\n",
    "x_train = train_data.values\n",
    "y_train = features.iloc[start:end][[0]]\n",
    "\n",
    "sequence_length = int(432 / 6)"
   ],
   "outputs": [],
   "metadata": {}
  },
  {
   "cell_type": "code",
   "execution_count": null,
   "source": [
    "from tensorflow import keras\n",
    "\n",
    "dataset_train = keras.preprocessing.timeseries_dataset_from_array(\n",
    "    data=x_train,\n",
    "    targets=y_train,\n",
    "    sequence_length=sequence_length,\n",
    "    sampling_rate=6,\n",
    "    batch_size=64,\n",
    ")"
   ],
   "outputs": [],
   "metadata": {}
  },
  {
   "cell_type": "markdown",
   "source": [
    "## Validation dataset"
   ],
   "metadata": {}
  },
  {
   "cell_type": "code",
   "execution_count": null,
   "source": [
    "x_val_end = len(val_data) - start\n",
    "\n",
    "label_start = training_size + start\n",
    "\n",
    "x_val = val_data.iloc[:x_val_end][[i for i in range(6)]].values\n",
    "y_val = features.iloc[label_start:][[0]]\n",
    "\n",
    "dataset_val = keras.preprocessing.timeseries_dataset_from_array(\n",
    "    x_val,\n",
    "    y_val,\n",
    "    sequence_length=sequence_length,\n",
    "    sampling_rate=6,\n",
    "    batch_size=64,\n",
    ")"
   ],
   "outputs": [],
   "metadata": {}
  },
  {
   "cell_type": "markdown",
   "source": [
    "# Creating an LSTM Weather Forecast Model"
   ],
   "metadata": {}
  },
  {
   "cell_type": "code",
   "execution_count": null,
   "source": [
    "for batch in dataset_train.take(1):\n",
    "    inputs, targets = batch\n",
    "    \n",
    "inputs = keras.layers.Input(shape=(inputs.shape[1], inputs.shape[2]))\n",
    "lstm_out = keras.layers.LSTM(32)(inputs)\n",
    "outputs = keras.layers.Dense(1)(lstm_out)\n",
    "\n",
    "model = keras.Model(name=\"Weather_forcaster\",inputs=inputs, outputs=outputs)\n",
    "model.compile(optimizer=keras.optimizers.Adam(learning_rate=0.001), loss=\"mse\")\n",
    "model.summary()"
   ],
   "outputs": [],
   "metadata": {}
  },
  {
   "cell_type": "code",
   "execution_count": null,
   "source": [
    "history = model.fit(\n",
    "    dataset_train,\n",
    "    epochs=15,\n",
    "    validation_data=dataset_val\n",
    ")"
   ],
   "outputs": [],
   "metadata": {}
  },
  {
   "cell_type": "code",
   "execution_count": null,
   "source": [
    "loss = history.history[\"loss\"]\n",
    "epochs = range(len(loss))\n",
    "plt.figure()\n",
    "plt.plot(epochs, loss, \"b\", label=\"Training loss\")\n",
    "plt.title(\"Training Loss\")\n",
    "plt.xlabel(\"Epochs\")\n",
    "plt.ylabel(\"Loss\")\n",
    "plt.show()"
   ],
   "outputs": [],
   "metadata": {}
  },
  {
   "cell_type": "code",
   "execution_count": null,
   "source": [
    "temp_mean = temperature.mean(axis=0)\n",
    "temp_std = temperature.std(axis=0)\n",
    "\n",
    "for x, y in dataset_val.skip(12):\n",
    "    history_data = x[0][:, 1].numpy() * temp_std + temp_mean\n",
    "    true_value = y[0].numpy() * temp_std + temp_mean\n",
    "    prediction = model.predict(x)[0] * temp_std + temp_mean\n",
    "    time_steps = list(range(-(history_data.shape[0]), 0))\n",
    "    plt.plot(time_steps, history_data)\n",
    "    plt.plot(36, true_value, \"gD\")\n",
    "    plt.plot(36, prediction, \"rX\")\n",
    "    plt.legend([\"History\", \"True Future\", \"Model Prediction\"])\n",
    "    plt.xlabel(\"Time\")\n",
    "    plt.show()\n",
    "    break"
   ],
   "outputs": [],
   "metadata": {}
  }
 ],
 "metadata": {
  "orig_nbformat": 4,
  "language_info": {
   "name": "python"
  }
 },
 "nbformat": 4,
 "nbformat_minor": 2
}